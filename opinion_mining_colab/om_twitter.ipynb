{
 "cells": [
  {
   "cell_type": "raw",
   "metadata": {},
   "source": [
    "# Minería de opiniones con TextBlob\n",
    "\n",
    "TextBlob es una librería para realizar minería de opiniones en python. Se instala con el comando:\n",
    "\n",
    "pip install textblob"
   ]
  },
  {
   "cell_type": "code",
   "execution_count": 69,
   "metadata": {
    "colab": {
     "autoexec": {
      "startup": false,
      "wait_interval": 0
     }
    },
    "colab_type": "code",
    "id": "6qmwq6LIj-1n"
   },
   "outputs": [],
   "source": [
    "# Paso 0: importar las librerías correspondientes\n",
    "\n",
    "# coding=utf-8\n",
    "\n",
    "import re\n",
    "import tweepy\n",
    "from tweepy import OAuthHandler\n",
    "from textblob import TextBlob"
   ]
  },
  {
   "cell_type": "code",
   "execution_count": 70,
   "metadata": {
    "colab": {
     "autoexec": {
      "startup": false,
      "wait_interval": 0
     },
     "base_uri": "https://localhost:8080/",
     "height": 34,
     "output_extras": [
      {
       "item_id": 1
      }
     ]
    },
    "colab_type": "code",
    "executionInfo": {
     "elapsed": 2511,
     "status": "ok",
     "timestamp": 1520444691873,
     "user": {
      "displayName": "Raul Oramas",
      "photoUrl": "//lh3.googleusercontent.com/-qhJxdQev4gI/AAAAAAAAAAI/AAAAAAAAAfA/DYA88iohB30/s50-c-k-no/photo.jpg",
      "userId": "112881898687901104051"
     },
     "user_tz": 420
    },
    "id": "hldkv_mPj-1j",
    "outputId": "14fc3761-08fc-47f9-e17c-ad22953081ff"
   },
   "outputs": [],
   "source": [
    "# Creamos una clase genérica\n",
    "class AnalisisSentimientoTwitter(object):\n",
    "    def __init__(self):\n",
    "        '''\n",
    "        Constructor, inicialización de las llaves de autenticación.\n",
    "        '''\n",
    "        # llaves\n",
    "        consumer_key = "",
    "        consumer_secret = "",
    "        access_token = '',
    "        access_token_secret = '',
    " \n",
    "        # autenticación al twitter-api\n",
    "        try:\n",
    "            # crea el objeto OAuthHandler\n",
    "            self.auth = OAuthHandler(consumer_key, consumer_secret)\n",
    "            # set access token and secret\n",
    "            self.auth.set_access_token(access_token, access_token_secret)\n",
    "            # create el objeto tweepy API \n",
    "            self.api = tweepy.API(self.auth)\n",
    "        except:\n",
    "            print(\"Error: Authentication Failed\")\n",
    " \n",
    "    def limpiar_tweet(self, tweet):\n",
    "        '''\n",
    "        Función simple para normalizar los tweets: elimina links, caracteres especiales, etc.\n",
    "        '''\n",
    "        return ' '.join(re.sub(\"(@[A-Za-z0-9]+)|([^0-9A-Za-z \\t]) | (\\w+:\\/\\/\\S+)\", \" \", tweet).split())\n",
    "    \n",
    "    def get_sentimiento(self, tweet):\n",
    "        '''\n",
    "        Clasifica un tweet utilizando TextBlob\n",
    "        '''\n",
    "        analysis = TextBlob(self.limpiar_tweet(tweet))\n",
    "        # establece el sentimiento\n",
    "        if analysis.sentiment.polarity > 0:\n",
    "            return 'positivo'\n",
    "        elif analysis.sentiment.polarity == 0:\n",
    "            return 'neutral'\n",
    "        else:\n",
    "            return 'negativo'\n",
    " \n",
    "    def get_tweets(self, query, count = 10):\n",
    "        '''\n",
    "        Recupera los tweets utilizando la api de tweepy.\n",
    "        '''\n",
    "        # lista para almacenar los tweets\n",
    "        tweets = []\n",
    " \n",
    "        try:\n",
    "            fetched_tweets = self.api.search(q = query, count = count)\n",
    " \n",
    "            # recupera los tweets uno por uno\n",
    "            for tweet in fetched_tweets:\n",
    "                # crea un diccionario\n",
    "                parsed_tweet = {}\n",
    " \n",
    "                # guarda el texto del tweet\n",
    "                parsed_tweet['text'] = tweet.text\n",
    "                # guarda el sentimiento del tweet\n",
    "                parsed_tweet['sentimento'] = self.get_sentimiento(tweet.text)\n",
    " \n",
    "                # agrega el tweet a la lista de tweets\n",
    "                if tweet.retweet_count > 0:\n",
    "                    # ¿ese tweet tiene retweets?\n",
    "                    if parsed_tweet not in tweets:\n",
    "                        tweets.append(parsed_tweet)\n",
    "                else:\n",
    "                    tweets.append(parsed_tweet)\n",
    " \n",
    "            # returna los tweets procesados\n",
    "            return tweets\n",
    " \n",
    "        except tweepy.TweepError as e:\n",
    "            # Por si sucede algún error\n",
    "            print(\"Error : \" + str(e))"
   ]
  },
  {
   "cell_type": "code",
   "execution_count": 79,
   "metadata": {
    "colab": {
     "autoexec": {
      "startup": false,
      "wait_interval": 0
     }
    },
    "colab_type": "code",
    "collapsed": true,
    "id": "4rTOlKMBj-1l"
   },
   "outputs": [],
   "source": [
    "def test():\n",
    "    om = AnalisisSentimientoTwitter()\n",
    "    # obtiene los tweets\n",
    "    tweets = om.get_tweets(query = 'Futbol Mexicano', count = 200)\n",
    " \n",
    "    # obtiene los tweets evaluados como positivos\n",
    "    pos_tweets = [tweet for tweet in tweets if tweet['sentimento'] == 'positivo']\n",
    "    # calcula el porcentaje de tweets positivos\n",
    "    print(\"Tweets positivos: {} %\".format(100*len(pos_tweets)/len(tweets)))\n",
    "    \n",
    "    # obtiene los tweets evaluados como negativos\n",
    "    neg_tweets = [tweet for tweet in tweets if tweet['sentimento'] == 'negativo']\n",
    "    # calcula el porcentaje de tweets negativos\n",
    "    print(\"Tweets negativos: {} %\".format(100*len(neg_tweets)/len(tweets)))\n",
    "    \n",
    "    # calcula los tweets neutrales\n",
    "    # print(\"Neutral tweets percentage: {} %\".format(100*len(tweets - ntweets - ptweets)/len(tweets)))\n",
    " \n",
    "    # imprime los cinco primeros tweets: positivos\n",
    "    print(\"\\n\\nTweets positivos:\")\n",
    "    for tweet in pos_tweets[:10]:\n",
    "        print(tweet['text'])\n",
    " \n",
    "    # imprime los cinco primeros tweets: positivos\n",
    "    print(\"\\n\\nTweets negativos:\")\n",
    "    for tweet in neg_tweets[:10]:\n",
    "        print(tweet['text'])"
   ]
  },
  {
   "cell_type": "code",
   "execution_count": 80,
   "metadata": {
    "colab": {
     "autoexec": {
      "startup": false,
      "wait_interval": 0
     }
    },
    "colab_type": "code",
    "id": "uHPXxP_Bj-1p"
   },
   "outputs": [
    {
     "name": "stdout",
     "output_type": "stream",
     "text": [
      "Tweets positivos: 1.408450704225352 %\n",
      "Tweets negativos: 2.816901408450704 %\n",
      "\n",
      "\n",
      "Tweets positivos:\n",
      "Y los chillahermanos babeando...\n",
      "\n",
      "Es normal que el club de futbol mas ganador de Norte America y marca... https://t.co/QfCJh8W5WE\n",
      "\n",
      "\n",
      "Tweets negativos:\n",
      "@AristeguiOnline Ya chole con la misma cantaleta de siempre. Futbol mexicano mediocre. Ni para qué ir a otro mundia… https://t.co/q4dnYPVKCS\n",
      "@miguirocha @negrosantos13 Atlas es una vergüenza para el fútbol mexicano, un equipito mediocre\n"
     ]
    }
   ],
   "source": [
    "test()"
   ]
  },
  {
   "cell_type": "code",
   "execution_count": null,
   "metadata": {
    "colab": {
     "autoexec": {
      "startup": false,
      "wait_interval": 0
     }
    },
    "colab_type": "code",
    "collapsed": true,
    "id": "UMPE1ak1j-3K"
   },
   "outputs": [],
   "source": []
  }
 ],
 "metadata": {
  "colab": {
   "default_view": {},
   "name": "index.ipynb",
   "provenance": [],
   "version": "0.3.2",
   "views": {}
  },
  "kernelspec": {
   "display_name": "Python 3",
   "language": "python",
   "name": "python3"
  },
  "language_info": {
   "codemirror_mode": {
    "name": "ipython",
    "version": 3
   },
   "file_extension": ".py",
   "mimetype": "text/x-python",
   "name": "python",
   "nbconvert_exporter": "python",
   "pygments_lexer": "ipython3",
   "version": "3.5.3"
  }
 },
 "nbformat": 4,
 "nbformat_minor": 1
}
