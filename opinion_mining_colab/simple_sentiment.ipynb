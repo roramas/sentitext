{
 "cells": [
  {
   "cell_type": "markdown",
   "metadata": {},
   "source": [
    "# Analizador de sentimiento simple.\n",
    "\n",
    "Los principales desafíos para realizar un analizador de sentimiento simple son: (1) recopilar y gestionar los datos, (2) convertir el texto en números de algún tipo, y (3) analizar esos los números.\n",
    "\n",
    "Por ejemplo, el texto se almacenará en una cadena de texto. Observa que la cadena de texto no contiente signos de puntuación y signos de puntuación. De otra forma antes de iniciar cualquier tarea debería de normalizarse (limpiarse) este texto, eliminando signos de puntuación y dejando todo el texto en minúsculas."
   ]
  },
  {
   "cell_type": "code",
   "execution_count": null,
   "metadata": {
    "colab": {
     "autoexec": {
      "startup": false,
      "wait_interval": 0
     }
    },
    "colab_type": "code",
    "id": "0imFU6W0j-1Q"
   },
   "outputs": [],
   "source": [
    "# almacenar el texto a analizar en una cadena\n",
    "tweet='me siento emocionado porque estoy aprendiendo machine learning python es genial'\n",
    "print(tweet)"
   ]
  },
  {
   "cell_type": "markdown",
   "metadata": {},
   "source": [
    "Una estrategía simple para determinar si un texto tiene una orientación positiva o negativa, es utilizar un diccionario de palabras emocionales y contar la ocurrencia de ellas en un determinado texto. Por ejemplo:"
   ]
  },
  {
   "cell_type": "code",
   "execution_count": null,
   "metadata": {
    "colab": {
     "autoexec": {
      "startup": false,
      "wait_interval": 0
     },
     "base_uri": "https://localhost:8080/",
     "height": 34,
     "output_extras": [
      {
       "item_id": 1
      }
     ]
    },
    "colab_type": "code",
    "collapsed": true,
    "executionInfo": {
     "elapsed": 349,
     "status": "ok",
     "timestamp": 1520444685772,
     "user": {
      "displayName": "Raul Oramas",
      "photoUrl": "//lh3.googleusercontent.com/-qhJxdQev4gI/AAAAAAAAAAI/AAAAAAAAAfA/DYA88iohB30/s50-c-k-no/photo.jpg",
      "userId": "112881898687901104051"
     },
     "user_tz": 420
    },
    "id": "BiGtEey_j-1b",
    "outputId": "2d6bb139-f6b3-49e8-a888-affc65019e33"
   },
   "outputs": [],
   "source": [
    "# Guardar en una lista, palabras con polaridad positiva\n",
    "positive_words=['fantastico','emocionado','feliz','maravilloso','grandioso',\n",
    "                'alegre','contento','genial']"
   ]
  },
  {
   "cell_type": "code",
   "execution_count": null,
   "metadata": {
    "colab": {
     "autoexec": {
      "startup": false,
      "wait_interval": 0
     },
     "base_uri": "https://localhost:8080/",
     "height": 34,
     "output_extras": [
      {
       "item_id": 1
      }
     ]
    },
    "colab_type": "code",
    "executionInfo": {
     "elapsed": 468,
     "status": "ok",
     "timestamp": 1520444687722,
     "user": {
      "displayName": "Raul Oramas",
      "photoUrl": "//lh3.googleusercontent.com/-qhJxdQev4gI/AAAAAAAAAAI/AAAAAAAAAfA/DYA88iohB30/s50-c-k-no/photo.jpg",
      "userId": "112881898687901104051"
     },
     "user_tz": 420
    },
    "id": "kTzNNwEAj-1g",
    "outputId": "2c07e9cf-dbd1-4300-cca0-7ecc1afe0d02"
   },
   "outputs": [],
   "source": [
    "# Añadir más elementos a una lista\n",
    "positive_words.append('comprometido')\n",
    "print(positive_words)"
   ]
  },
  {
   "cell_type": "code",
   "execution_count": null,
   "metadata": {
    "colab": {
     "autoexec": {
      "startup": false,
      "wait_interval": 0
     },
     "base_uri": "https://localhost:8080/",
     "height": 34,
     "output_extras": [
      {
       "item_id": 1
      }
     ]
    },
    "colab_type": "code",
    "executionInfo": {
     "elapsed": 2511,
     "status": "ok",
     "timestamp": 1520444691873,
     "user": {
      "displayName": "Raul Oramas",
      "photoUrl": "//lh3.googleusercontent.com/-qhJxdQev4gI/AAAAAAAAAAI/AAAAAAAAAfA/DYA88iohB30/s50-c-k-no/photo.jpg",
      "userId": "112881898687901104051"
     },
     "user_tz": 420
    },
    "id": "hldkv_mPj-1j",
    "outputId": "14fc3761-08fc-47f9-e17c-ad22953081ff"
   },
   "outputs": [],
   "source": [
    "negative_words=['enojado','frustrado','aburrido','molesto',\n",
    "                'perdido','miedo','triste','deprimido','indiferente','harto']\n",
    "print(negative_words)"
   ]
  },
  {
   "cell_type": "code",
   "execution_count": null,
   "metadata": {
    "colab": {
     "autoexec": {
      "startup": false,
      "wait_interval": 0
     }
    },
    "colab_type": "code",
    "id": "4rTOlKMBj-1l"
   },
   "outputs": [],
   "source": [
    "emotional_words = positive_words + negative_words\n",
    "print(emotional_words)"
   ]
  },
  {
   "cell_type": "markdown",
   "metadata": {},
   "source": [
    "Más adelante, crearemos una mejor lista de palabras positivas y negativas, pero por ahora regresemos al tuit original. La estrategia predeterminada para este tipo de análisis es examinar cada palabra en la oración por sí misma, independientemente del orden de las palabras. Esto se llama un modelo de \"bolsa de palabras\". Tiene algunos inconvenientes obvios (por ejemplo, \"Esto no fue divertido.\") \n",
    "\n",
    "Dado que nuestra unidad de análisis es la palabra y no la oración, tenemos que dividir nuestra oración en palabras. "
   ]
  },
  {
   "cell_type": "code",
   "execution_count": null,
   "metadata": {
    "colab": {
     "autoexec": {
      "startup": false,
      "wait_interval": 0
     }
    },
    "colab_type": "code",
    "id": "uHPXxP_Bj-1p"
   },
   "outputs": [],
   "source": [
    "words= tweet.split(' ')\n",
    "print(words)\n",
    "print(len(words))"
   ]
  },
  {
   "cell_type": "markdown",
   "metadata": {},
   "source": [
    "Ahora, lo que tenemos que hacer es revisar nuestra lista de palabras y ver si alguna de ellas aparece en nuestra lista de palabras positivas. Por ejemplo:"
   ]
  },
  {
   "cell_type": "code",
   "execution_count": null,
   "metadata": {},
   "outputs": [],
   "source": [
    "for word in words:\n",
    "    print(word)"
   ]
  },
  {
   "cell_type": "code",
   "execution_count": null,
   "metadata": {},
   "outputs": [],
   "source": [
    "for word in words:\n",
    "    if word in positive_words:\n",
    "        print(word)"
   ]
  },
  {
   "cell_type": "markdown",
   "metadata": {},
   "source": [
    "Ya que sabemos como procesar cada palabra del texto, lo que queda por hacer es simple:"
   ]
  },
  {
   "cell_type": "code",
   "execution_count": null,
   "metadata": {},
   "outputs": [],
   "source": [
    "# almacenar el texto a analizar en una cadena\n",
    "# tweet='me siento emocionado porque estoy aprendiendo machine learning python es genial'\n",
    "tweet='ayer llore literalmente todo el dia, que triste, que frustrado'\n",
    "print(tweet)\n",
    "# obtiene los tokens (palabras) del tweet\n",
    "words= tweet.split(' ')\n",
    "\n",
    "# diccionario de palabras emocional\n",
    "positive_words=['fantastico','emocionado','feliz','maravilloso','grandioso',\n",
    "                'alegre','contento','genial']\n",
    "negative_words=['enojado','frustrado','aburrido','molesto',\n",
    "                'perdido','miedo','triste','deprimido','indiferente','harto']\n",
    "\n",
    "\n",
    "# para contar las palabras positivas y negativas\n",
    "cont_pos = 0\n",
    "cont_neg = 0\n",
    "\n",
    "# empieza a buscar las palabras positivas y negativas\n",
    "for word in words:\n",
    "    if word in positive_words:\n",
    "        cont_pos = cont_pos + 1\n",
    "    elif word in negative_words:\n",
    "        cont_neg = cont_neg + 1\n",
    "        \n",
    "if cont_pos > cont_neg:\n",
    "    print('polaridad: positivo', cont_pos)\n",
    "else:\n",
    "    print('polaridad: negativo', cont_neg)"
   ]
  },
  {
   "cell_type": "code",
   "execution_count": null,
   "metadata": {
    "collapsed": true
   },
   "outputs": [],
   "source": []
  }
 ],
 "metadata": {
  "colab": {
   "default_view": {},
   "name": "index.ipynb",
   "provenance": [],
   "version": "0.3.2",
   "views": {}
  },
  "kernelspec": {
   "display_name": "Python 3",
   "language": "python",
   "name": "python3"
  },
  "language_info": {
   "codemirror_mode": {
    "name": "ipython",
    "version": 3
   },
   "file_extension": ".py",
   "mimetype": "text/x-python",
   "name": "python",
   "nbconvert_exporter": "python",
   "pygments_lexer": "ipython3",
   "version": "3.5.3"
  }
 },
 "nbformat": 4,
 "nbformat_minor": 1
}
