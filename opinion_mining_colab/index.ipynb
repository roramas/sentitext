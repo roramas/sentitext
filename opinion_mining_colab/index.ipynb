{
 "cells": [
  {
   "cell_type": "markdown",
   "metadata": {},
   "source": [
    "# Taller minería de opiniones\n",
    "## http://snaic2018.itculiacan.edu.mx/ "
   ]
  },
  {
   "cell_type": "markdown",
   "metadata": {},
   "source": [
    "## Temario general.\n",
    "\n",
    "* [Mining tweets](om_twitter.ipynb)\n",
    "* [Análisis de sentimiento simple](simple_sentiment.ipynb)\n",
    "* [Textblob](om_textblob.ipynb)\n",
    "* [Scikit-learn](intro_sciklearn.ipynb)\n",
    "* [Deep learning](intro_keras.ipynb)"
   ]
  },
  {
   "cell_type": "code",
   "execution_count": null,
   "metadata": {
    "collapsed": true
   },
   "outputs": [],
   "source": []
  }
 ],
 "metadata": {
  "kernelspec": {
   "display_name": "Python 3",
   "language": "python",
   "name": "python3"
  },
  "language_info": {
   "codemirror_mode": {
    "name": "ipython",
    "version": 3
   },
   "file_extension": ".py",
   "mimetype": "text/x-python",
   "name": "python",
   "nbconvert_exporter": "python",
   "pygments_lexer": "ipython3",
   "version": "3.5.3"
  }
 },
 "nbformat": 4,
 "nbformat_minor": 1
}
