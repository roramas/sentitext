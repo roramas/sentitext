{
 "cells": [
  {
   "cell_type": "markdown",
   "metadata": {},
   "source": [
    "# Minar Opiniones en Twitter\n",
    "\n",
    "[Tweepy](http://www.tweepy.org/) es una librería popular para minar opiniones en twitter. Se instala con el comando:\n",
    "\n",
    "pip install tweepy"
   ]
  },
  {
   "cell_type": "markdown",
   "metadata": {},
   "source": [
    "Para minar los tweets es necesario contar con una cuenta en Twitter y registrarse como desarrollador:\n",
    "\n",
    "https://apps.twitter.com/\n",
    "\n",
    "El objetivo es obtener las llaves siguientes:\n",
    "\n",
    "* Consumer Key (API Key)\n",
    "* Consumer Secret (API Secret)\n",
    "* Access Token\n",
    "* Access Token Secret"
   ]
  },
  {
   "cell_type": "code",
   "execution_count": null,
   "metadata": {
    "colab": {
     "autoexec": {
      "startup": false,
      "wait_interval": 0
     }
    },
    "colab_type": "code",
    "collapsed": true,
    "id": "6qmwq6LIj-1n"
   },
   "outputs": [],
   "source": [
    "# Paso 0: importar las librerías correspondientes\n",
    "\n",
    "# coding=utf-8\n",
    "\n",
    "import tweepy\n",
    "from tweepy import StreamListener, OAuthHandler, Stream\n",
    "from tweepy.streaming import json\n",
    "import os"
   ]
  },
  {
   "cell_type": "code",
   "execution_count": null,
   "metadata": {
    "colab": {
     "autoexec": {
      "startup": false,
      "wait_interval": 0
     },
     "base_uri": "https://localhost:8080/",
     "height": 34,
     "output_extras": [
      {
       "item_id": 1
      }
     ]
    },
    "colab_type": "code",
    "executionInfo": {
     "elapsed": 2511,
     "status": "ok",
     "timestamp": 1520444691873,
     "user": {
      "displayName": "Raul Oramas",
      "photoUrl": "//lh3.googleusercontent.com/-qhJxdQev4gI/AAAAAAAAAAI/AAAAAAAAAfA/DYA88iohB30/s50-c-k-no/photo.jpg",
      "userId": "112881898687901104051"
     },
     "user_tz": 420
    },
    "id": "hldkv_mPj-1j",
    "outputId": "14fc3761-08fc-47f9-e17c-ad22953081ff"
   },
   "outputs": [],
   "source": [
    "# Paso 1: Crear un StreamListener\n",
    "class StdOutListener(StreamListener):\n",
    "\n",
    "    def on_data(self, data):\n",
    "        try:\n",
    "            corpus = open('tweets_emociones.txt', 'ab')\n",
    "            decoded = json.loads(data)\n",
    "\n",
    "            if not decoded['text'].startswith('RT'):\n",
    "                if not decoded['text'].startswith('@'):\n",
    "                    text = decoded['text'].replace('\\n', ' ')\n",
    "                    text = decoded['text'] + os.linesep\n",
    "                    tweet = '%s\\n' % (text)\n",
    "                    corpus.write(text.encode('utf8'))\n",
    "                    #file.write(tweet.encode('ascii', 'ignore'))\n",
    "                    print(text)\n",
    "                    corpus.close()\n",
    "            return True\n",
    "        except Exception as e:\n",
    "            corpus.close()\n",
    "            print(e) # no queremos que el script se pare\n",
    "\n",
    "    def on_error(self, status):\n",
    "        print(status)\n",
    "        if status == 420:\n",
    "            # returning False in on_data disconnects the stream\n",
    "            corpus.close()\n",
    "            return False"
   ]
  },
  {
   "cell_type": "code",
   "execution_count": null,
   "metadata": {
    "colab": {
     "autoexec": {
      "startup": false,
      "wait_interval": 0
     }
    },
    "colab_type": "code",
    "collapsed": true,
    "id": "4rTOlKMBj-1l"
   },
   "outputs": [],
   "source": [
    "# Paso 2: Crear un stream.\n",
    "# Es necesario la autenticación y conexión a Twitter Streaming API\n",
    "mining = StdOutListener()\n",
    "\n",
    "# Credenciales (consumer_token, consumer_secret). Estas llaves las proporciona Twitter.\n",
    "auth = OAuthHandler(\"Ikzkt2CDZAmVFkxk44t4EUjgB\", \"VnrNgvXYJOuXWqoGT1jzErmipsboo1NHw06gfW1hDf8QfJaDWf\")\n",
    "auth.set_access_token('79763955-q3UyMKEV5Xlqb90VLouwGuCVFvYcxrFwvdR40aO0O', '7n4HfD3yBhb7PHz6ytRB7uQqn8ICQpIXv2Kxx01kJwCBp')\n",
    "stream = Stream(auth, mining)\n",
    "\n"
   ]
  },
  {
   "cell_type": "code",
   "execution_count": null,
   "metadata": {
    "colab": {
     "autoexec": {
      "startup": false,
      "wait_interval": 0
     }
    },
    "colab_type": "code",
    "id": "uHPXxP_Bj-1p"
   },
   "outputs": [],
   "source": [
    "# Paso 3: Iniciar un Stream\n",
    "\n",
    "# Coordenadas de geolocalización geográfica\n",
    "locs = [-107.43488, 24.7885, -107.367493, 24.82118]\n",
    "# Minado de tweets con las etiquetas que nos interesan\n",
    "stream.filter(track=['examen','frustrado','triste','aburrido','desilusionado'], locations= locs, languages=[\"es\"])"
   ]
  },
  {
   "cell_type": "code",
   "execution_count": null,
   "metadata": {
    "colab": {
     "autoexec": {
      "startup": false,
      "wait_interval": 0
     }
    },
    "colab_type": "code",
    "collapsed": true,
    "id": "UMPE1ak1j-3K"
   },
   "outputs": [],
   "source": []
  }
 ],
 "metadata": {
  "colab": {
   "default_view": {},
   "name": "index.ipynb",
   "provenance": [],
   "version": "0.3.2",
   "views": {}
  },
  "kernelspec": {
   "display_name": "Python 3",
   "language": "python",
   "name": "python3"
  },
  "language_info": {
   "codemirror_mode": {
    "name": "ipython",
    "version": 3
   },
   "file_extension": ".py",
   "mimetype": "text/x-python",
   "name": "python",
   "nbconvert_exporter": "python",
   "pygments_lexer": "ipython3",
   "version": "3.5.3"
  }
 },
 "nbformat": 4,
 "nbformat_minor": 1
}
